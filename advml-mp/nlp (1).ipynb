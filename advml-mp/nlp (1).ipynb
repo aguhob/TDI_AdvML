{
 "cells": [
  {
   "cell_type": "code",
   "execution_count": 1,
   "metadata": {
    "collapsed": true
   },
   "outputs": [],
   "source": [
    "%matplotlib inline\n",
    "import matplotlib\n",
    "import seaborn as sns\n",
    "matplotlib.rcParams['savefig.dpi'] = 144"
   ]
  },
  {
   "cell_type": "code",
   "execution_count": 2,
   "metadata": {
    "collapsed": true
   },
   "outputs": [],
   "source": [
    "from grader import score"
   ]
  },
  {
   "cell_type": "markdown",
   "metadata": {},
   "source": [
    "# NLP: Analyzing Review Text\n",
    "\n",
    "Unstructured data makes up the vast majority of data.  This is a basic intro to handling unstructured data.  Our objective is to be able to extract the sentiment (positive or negative) from review text.  We will do this from Yelp review data.\n",
    "\n",
    "The first three questions task you to build models, of increasing complexity, to predict the rating of a review from its text.  These models will be assessed based on the root mean squared error of the number of stars predicted.  There is a reference solution (which should not be too hard to beat) that defines the score of 1.\n",
    "\n",
    "The final question asks only for the result of a calculation, and your results will be compared directly to those of a reference solution.\n",
    "\n",
    "## A note on scoring\n",
    "It **is** possible to score >1 on these questions. This indicates that you've beaten our reference model - we compare our model's score on a test set to your score on a test set. See how high you can go!\n",
    "\n",
    "## Download and parse the data\n",
    "\n",
    "To start, let's download the dataset from Amazon S3:"
   ]
  },
  {
   "cell_type": "code",
   "execution_count": null,
   "metadata": {
    "collapsed": true
   },
   "outputs": [],
   "source": [
    "# !aws s3 sync s3://dataincubator-course/mldata/ . --exclude '*' --include 'yelp_train_academic_dataset_review.json.gz'"
   ]
  },
  {
   "cell_type": "markdown",
   "metadata": {},
   "source": [
    "The training data are a series of JSON objects, in a gzipped file. Python supports gzipped files natively: [gzip.open](https://docs.python.org/2/library/gzip.html) has the same interface as `open`, but handles `.gz` files automatically.\n",
    "\n",
    "The built-in json package has a `loads()` function that converts a JSON string into a Python dictionary.  We could call that once for each row of the file. [ujson](http://docs.micropython.org/en/latest/library/ujson.html) has the same interface as the built-in `json` library, but is *substantially* faster (at the cost of non-robust handling of malformed json).  We will use that inside a list comprehension to get a list of dictionaries:"
   ]
  },
  {
   "cell_type": "code",
   "execution_count": 3,
   "metadata": {
    "collapsed": true
   },
   "outputs": [],
   "source": [
    "import gzip\n",
    "import ujson as json\n",
    "\n",
    "with gzip.open('yelp_train_academic_dataset_review.json.gz') as f:\n",
    "    data = [json.loads(line) for line in f]"
   ]
  },
  {
   "cell_type": "markdown",
   "metadata": {},
   "source": [
    "If you're having trouble with running out of memory, you can do quite well with a 5% or 10% subsample of the data.  A quick way to take a random subsample is to run the following load instead:"
   ]
  },
  {
   "cell_type": "code",
   "execution_count": null,
   "metadata": {
    "collapsed": true
   },
   "outputs": [],
   "source": [
    "# import gzip\n",
    "# import ujson as json\n",
    "# import random\n",
    "\n",
    "#Fraction to subsample, needs to be between 0 and 1\n",
    "# subsample = 0.1\n",
    "\n",
    "# with gzip.open('yelp_train_academic_dataset_review.json.gz') as f:\n",
    "#     data = [json.loads(line) for line in f if random.random() < subsample]"
   ]
  },
  {
   "cell_type": "markdown",
   "metadata": {},
   "source": [
    "Scikit Learn will want the labels in a separate data structure, so let's pull those out now."
   ]
  },
  {
   "cell_type": "code",
   "execution_count": null,
   "metadata": {
    "collapsed": true
   },
   "outputs": [],
   "source": [
    "# stars = [row['stars'] for row in data]"
   ]
  },
  {
   "cell_type": "markdown",
   "metadata": {},
   "source": [
    "### Notes:\n",
    "1. [Pandas](http://pandas.pydata.org/) is able to read JSON text directly.  Use the `read_json()` function with the `lines=True` keyword argument.  While the rest of this notebook will assume you are using a list of dictionaries, you can complete it with dataframes, if you so desire. Some of the example code will need to be modified in this case.\n",
    "\n",
    "2. There are obvious miscodings in the data.  There is no need to try to correct them.\n",
    "\n",
    "## Building models\n",
    "\n",
    "For the first three questions, you will need to build and train an estimator to predict the star rating from the text of a review.  We recommend building a pipeline out of transformers and estimators provided by Scikit Learn.  You can decide whether these pipelines should take full review objects or just their text as input to the `fit()` and `predict()` methods, but it does pay to be consistent.\n",
    "\n",
    "You may find it useful to serialize the trained models to disk.  This will allow you to reload the models after restarting the notebook, without needing to retrain them.  We recommend using the [`dill` library](https://pypi.python.org/pypi/dill) for this (although the [`joblib` library](http://scikit-learn.org/stable/modules/model_persistence.html) also works).  Use\n",
    "```python\n",
    "dill.dump(estimator, open('estimator.dill', 'w'))\n",
    "```\n",
    "to serialize the object `estimator` to the file `estimator.dill`.  If you have trouble with this, try setting the `recurse=True` keyword args in the call of `dill.dump()`.  The estimator can be deserialized with\n",
    "```python\n",
    "estimator = dill.load(open('estimator.dill', 'r'))\n",
    "```\n",
    "\n",
    "You may run into trouble with the size of your models and Digital Ocean's memory limit. This is a major concern in real-world applications. Your production environment will likely not be that different from Digital Ocean and being able to deploy there is important. Think about what information the different stages of\n",
    "your pipeline need and how you can reduce the memory footprint.\n",
    "\n",
    "Additionally, you may notice that your serialized models are very large and take a long time to load.  Some hints to reduce their size:\n",
    "\n",
    "- If you are using `GridSearchCV` to find the optimal values of hyperparameters (and you should be), the resultant object will contain many copies of the estimator that aren't needed any more.  Instead of serializing the whole `GridSearchCV`, serialize just the estimator with the correct hyperparameters.  This can be accessed through the `.best_estimator_` attribute of the `GridSearchCV` object.  Alternatively, the `.best_params_` attribute gives the best values of the hyperparameters.\n",
    "\n",
    "- The `CountVectorizer` keeps track of all words that were excluded from vectorization in its `.stop_words_` attribute.  This can be interesting to examine, but isn't needed for predictions.  Set this attribute to the empty list before serializing it to save disk space."
   ]
  },
  {
   "cell_type": "code",
   "execution_count": 4,
   "metadata": {
    "collapsed": true
   },
   "outputs": [],
   "source": [
    "import dill\n",
    "from sklearn.feature_extraction.text import CountVectorizer, HashingVectorizer\n",
    "from sklearn.model_selection import train_test_split\n",
    "from sklearn.model_selection import GridSearchCV\n",
    "from sklearn import base\n",
    "from sklearn.linear_model import LinearRegression, Ridge\n",
    "from tqdm import tqdm_notebook"
   ]
  },
  {
   "cell_type": "markdown",
   "metadata": {},
   "source": [
    "# Questions\n",
    "\n",
    "#### Each of the \"model\" questions asks you to create a function that models the number of stars given in a review from the review text.  \n",
    "\n",
    "It will be passed a list of dictionaries.  Each of these will have the same format as the JSON objects you've just read in.  \n",
    "\n",
    "This function should return a list of numbers of the same length, giving the predicted star ratings.\n",
    "\n",
    "This function is passed to the `score()` function, which will receive input from the grader, run your function with that input, report the results back to the grader, and print out the score the grader returned.  \n",
    "\n",
    "Depending on how you constructed your estimator, you may be able to pass the predict method directly to the `score()` function.  \n",
    "\n",
    "(If not, you will need to write a small wrapper function to mediate the data types.)\n",
    "\n",
    "## bag_of_words_model\n",
    "Build a linear model predicting the star rating based on the count of the words in each document (bag-of-words model).  Use a [CountVectorizer](http://scikit-learn.org/stable/modules/generated/sklearn.feature_extraction.text.CountVectorizer.html#sklearn.feature_extraction.text.CountVectorizer) or [HashingVectorizer](http://scikit-learn.org/stable/modules/generated/sklearn.feature_extraction.text.HashingVectorizer.html#sklearn.feature_extraction.text.HashingVectorizer) to produce a feature matrix giving the counts of each word in each review.  Feed this in to linear model, such as `Ridge` or `SGDRegressor`, to predict the number of stars from each review.\n",
    "\n",
    "**Hints**:\n",
    "1. Don't forget to use tokenization!  This is important for good performance but it is also the most expensive step.  Try vectorizing as a first initial step and then running grid-serach and cross-validation only on of this pre-processed data.  `CountVectorizer` has to memorize the mapping between words and the index to which it is assigned.  This is linear in the size of the vocabulary.  The `HashingVectorizer` does not have to remember this mapping and will lead to much smaller models.\n",
    "\n",
    " ```python\n",
    " from sklearn.feature_extraction.text import CountVectorizer\n",
    "\n",
    " text = [row['text'] for row in data]\n",
    " X = CountVectorizer().fit_transform(text)\n",
    "\n",
    " # Now, this can be run with many different parameters\n",
    " # without needing to retrain the vectorizer:\n",
    " model.fit(X, stars, hyperparameter=something)\n",
    " ```\n",
    "\n",
    "2. Try choosing different values for `min_df` (minimum document frequency cutoff) and `max_df` in `CountVectorizer`.  Setting `min_df` to zero admits rare words which might only appear once in the entire corpus.  This is both prone to overfitting and makes your data unmanageably large.  Don't forget to use cross-validation or to select the right value.  Notice that `HashingVectorizer` doesn't support `min_df`  and `max_df`.  However, it's not hard to roll your own transformer that solves for these.\n",
    "\n",
    "3. Try using [LinearRegression](http://scikit-learn.org/stable/modules/generated/sklearn.linear_model.LinearRegression.html#sklearn.linear_model.LinearRegression) or [RidgeCV](http://scikit-learn.org/stable/modules/generated/sklearn.linear_model.RidgeCV.html#sklearn.linear_model.RidgeCV).  If the memory footprint is too big, try switching to [Stochastic Gradient Descent](http://scikit-learn.org/stable/modules/generated/sklearn.linear_model.SGDRegressor.html#sklearn.linear_model.SGDRegressor) You might find that even ordinary linear regression fails due to the data size.  Don't forget to use [GridSearchCV](http://scikit-learn.org/stable/modules/generated/sklearn.model_selection.GridSearchCV.html#sklearn.model_selection.GridSearchCV) to determine the regularization parameter!  How do the regularization parameter `alpha` and the values of `min_df` and `max_df` from `CountVectorizer` change the answer?\n",
    "\n",
    "4. You will likely pick up several hyperparameters between the tokenization step and the regularization of the estimator.  While is is more strictly correct to do a grid search over all of them at once, this can take a long time. Quite often, doing a grid search over a single hyperparameter at a time can produce similar results.  Alternatively, the grid search may be done over a smaller subset of the data, as long as it is representative of the whole.\n",
    "\n",
    "5. Finally, assemble a pipeline that will transform the data from records all the way to predictions.  This will allow you to submit its predict method to the grader for scoring."
   ]
  },
  {
   "cell_type": "code",
   "execution_count": null,
   "metadata": {
    "collapsed": true
   },
   "outputs": [],
   "source": [
    "# class ReviewTextExtractor(base.BaseEstimator, base.TransformerMixin):\n",
    "    \n",
    "#     def __init__(self, col_names):\n",
    "#         self.col_names = col_names # We will need these in transform()\n",
    "#         #print self.col_names\n",
    "#     def fit(self, X, y=None):\n",
    "#         # This transformer doesn't need to learn anything about the data,\n",
    "#         # so it can just return self without any further processing\n",
    "#         return self\n",
    "    \n",
    "#     def transform(self, X):\n",
    "#         # Return an array with the same number of rows as X and one\n",
    "#         # column for each in self.col_names\n",
    "#         self.transformed = [[row[col_name] for col_name in self.col_names][0] for row in X]\n",
    "#         return self.transformed"
   ]
  },
  {
   "cell_type": "code",
   "execution_count": null,
   "metadata": {
    "collapsed": true
   },
   "outputs": [],
   "source": [
    "# from sklearn.pipeline import Pipeline\n",
    "\n",
    "# bag_of_words_est = Pipeline([\n",
    "#     # Column selector (remember the ML project?)\n",
    "#     (\"Column Selector\", ReviewTextExtractor(['text'])),\n",
    "#     # Vectorizer\n",
    "#     (\"Hash Vectorizer\", HashingVectorizer()),\n",
    "#     # Frequency filter (if necessary)\n",
    "#     # Regressor\n",
    "#     (\"Regressor\", Ridge())\n",
    "# ])\n",
    "# bag_of_words_est.fit(data, stars)"
   ]
  },
  {
   "cell_type": "code",
   "execution_count": null,
   "metadata": {
    "collapsed": true
   },
   "outputs": [],
   "source": [
    "# score('nlp__bag_of_words_model', bag_of_words_est.predict)"
   ]
  },
  {
   "cell_type": "markdown",
   "metadata": {},
   "source": [
    "## normalized_model\n",
    "Normalization is key for good linear regression. Previously, we used the count as the normalization scheme.  Add in a normalization transformer to your pipeline to improve the score.  Try some of these:\n",
    "\n",
    "1. You can use the \"does this word present in this document\" as a normalization scheme, which means the values are always 1 or 0.  So we give no additional weight to the presence of the word multiple times.\n",
    "\n",
    "2. Try using the log of the number of counts (or more precisely, $log(x+1)$). This is often used because we want the repeated presence of a word to count for more but not have that effect tapper off.\n",
    "\n",
    "3. [TF-IDF](https://en.wikipedia.org/wiki/Tf%E2%80%93idf) is a common normalization scheme used in text processing.  Use the [TFIDFTransformer](http://scikit-learn.org/stable/modules/generated/sklearn.feature_extraction.text.TfidfTransformer.html#sklearn.feature_extraction.text.TfidfTransformer). There are options for using `idf` and taking the logarithm of `tf`.  Do these significantly affect the result?\n",
    "\n",
    "Finally, if you can't decide which one is better, don't forget that you can combine models with a linear regression."
   ]
  },
  {
   "cell_type": "code",
   "execution_count": null,
   "metadata": {
    "collapsed": true
   },
   "outputs": [],
   "source": [
    "# score('nlp__normalized_model', bag_of_words_est.predict)"
   ]
  },
  {
   "cell_type": "markdown",
   "metadata": {},
   "source": [
    "## bigram_model\n",
    "In a bigram model, we'll consider both single words and pairs of consecutive words that appear.  This is going to be a much higher dimensional problem (large $p$) so you should be careful about overfitting.\n",
    "\n",
    "Sometimes, reducing the dimension can be useful.  Because we are dealing with a sparse matrix, we have to use [TruncatedSVD](http://scikit-learn.org/stable/modules/generated/sklearn.decomposition.TruncatedSVD.html#sklearn.decomposition.TruncatedSVD).  If we reduce the dimensions, we can use a more sophisticated models than linear ones.\n",
    "\n",
    "As before, memory problems can crop up due to the engineering constraints. Playing with the number of features, using the `HashingVectorizer`, incorporating `min_df` and `max_df` limits, and handling stop-words in some way are all methods of addressing this issue. If you are using `CountVectorizer`, it is possible to run it with a fixed vocabulary (based on a training run, for instance). Check the documentation.\n",
    "\n",
    "**A side note on multi-stage model evaluation:** When your model consists of a pipeline with several stages, it can be worthwhile to evaluate which parts of the pipeline have the greatest impact on the overall accuracy (or other metric) of the model. This allows you to focus your efforts on improving the important algorithms, and leaving the rest \"good enough\".\n",
    "\n",
    "One way to accomplish this is through ceiling analysis, which can be useful when you have a training set with ground truth values at each stage. Let's say you're training a model to extract image captions from websites and return a list of names that were in the caption. Your overall accuracy at some point reaches 70%. You can try manually giving the model what you know are the correct image captions from the training set, and see how the accuracy improves (maybe up to 75%). Alternatively, giving the model the perfect name parsing for each caption increases accuracy to 90%. This indicates that the name parsing is a much more promising target for further work, and the caption extraction is a relatively smaller factor in the overall performance.\n",
    "\n",
    "If you don't know the right answers at different stages of the pipeline, you can still evaluate how important different parts of the model are to its performance by changing or removing certain steps while keeping everything else constant. You might try this kind of analysis to determine how important adding stopwords and stemming to your NLP model actually is, and how that importance changes with parameters like the number of features."
   ]
  },
  {
   "cell_type": "code",
   "execution_count": null,
   "metadata": {
    "collapsed": true
   },
   "outputs": [],
   "source": [
    "# bigram_est = Pipeline([\n",
    "#     # Column selector (remember the ML project?)\n",
    "#     (\"Column Selector\", ReviewTextExtractor(['text'])),\n",
    "#     # Vectorizer\n",
    "#     (\"Hash Vectorizer\", HashingVectorizer(ngram_range = (1,2))),\n",
    "#     # Frequency filter (if necessary)\n",
    "#     # Regressor\n",
    "#     (\"Regressor\", Ridge())\n",
    "# ])"
   ]
  },
  {
   "cell_type": "code",
   "execution_count": null,
   "metadata": {
    "collapsed": true
   },
   "outputs": [],
   "source": [
    "# bigram_est.fit(data, stars)"
   ]
  },
  {
   "cell_type": "code",
   "execution_count": null,
   "metadata": {
    "collapsed": true
   },
   "outputs": [],
   "source": [
    "# score('nlp__bigram_model', bigram_est.predict)"
   ]
  },
  {
   "cell_type": "markdown",
   "metadata": {},
   "source": [
    "## food_bigrams\n",
    "Look over all reviews of restaurants.  You can determine which businesses are restaurants by looking in the `yelp_train_academic_dataset_business.json.gz` file from the ml project or downloaded below."
   ]
  },
  {
   "cell_type": "code",
   "execution_count": 5,
   "metadata": {
    "collapsed": true
   },
   "outputs": [],
   "source": [
    "!aws s3 sync s3://dataincubator-course/mldata/ . --exclude '*' --include 'yelp_train_academic_dataset_business.json.gz'"
   ]
  },
  {
   "cell_type": "code",
   "execution_count": 6,
   "metadata": {
    "collapsed": true
   },
   "outputs": [],
   "source": [
    "with gzip.open('yelp_train_academic_dataset_business.json.gz') as f:\n",
    "    business_data = [json.loads(line) for line in f]"
   ]
  },
  {
   "cell_type": "markdown",
   "metadata": {},
   "source": [
    "Each row of this file corresponds to a single business.  The category key gives a list of categories for each; take all where \"Restaurants\" appears."
   ]
  },
  {
   "cell_type": "code",
   "execution_count": 7,
   "metadata": {
    "collapsed": true
   },
   "outputs": [],
   "source": [
    "restaurant_ids = [row[u'business_id'] for row in business_data if u'Restaurants' in row[u'categories']]"
   ]
  },
  {
   "cell_type": "code",
   "execution_count": 8,
   "metadata": {
    "collapsed": true
   },
   "outputs": [],
   "source": [
    "assert len(restaurant_ids) == 12876"
   ]
  },
  {
   "cell_type": "markdown",
   "metadata": {},
   "source": [
    "The \"business_id\" here is the same as in the review data.  Use this to extract the review text for all reviews of restaurants."
   ]
  },
  {
   "cell_type": "code",
   "execution_count": 9,
   "metadata": {},
   "outputs": [
    {
     "data": {
      "text/plain": [
       "1012913"
      ]
     },
     "execution_count": 9,
     "metadata": {},
     "output_type": "execute_result"
    }
   ],
   "source": [
    "len(data)"
   ]
  },
  {
   "cell_type": "code",
   "execution_count": 10,
   "metadata": {
    "collapsed": true
   },
   "outputs": [],
   "source": [
    "restaurant_reviews = []\n",
    "# subset -- for row in data[:10000]:\n",
    "for row in data:\n",
    "    if row[u'business_id'] in restaurant_ids:\n",
    "        restaurant_reviews.append(row[u'text'])\n",
    "        \n",
    "# restaurant_reviews = [row[u'text'] for row in data if u'business_id' in restaurant_ids]"
   ]
  },
  {
   "cell_type": "code",
   "execution_count": null,
   "metadata": {
    "collapsed": true
   },
   "outputs": [],
   "source": [
    "# assert len(restaurant_reviews) == 574278\n",
    "# why is it this number^? (Helps you to see whether you're using the full, vs random, sample!)"
   ]
  },
  {
   "cell_type": "markdown",
   "metadata": {},
   "source": [
    "We want to find collocations --- that is, bigrams that are \"special\" and appear more often than you'd expect from chance. We can think of the corpus as defining an empirical distribution over all ngrams.  We can find word pairs that are unlikely to occur consecutively based on the underlying probability of their words. Mathematically, if $p(w)$ be the probability of a word $w$ and $p(w_1 w_2)$ is the probability of the bigram $w_1 w_2$, then we want to look at word pairs $w_1 w_2$ where the statistic\n",
    "\n",
    "  $$ \\frac{p(w_1 w_2)}{p(w_1) p(w_2)} $$\n",
    "\n",
    "is high.  Return the top 100 (mostly food) bigrams with this statistic with the 'right' prior factor (see below).\n",
    "\n",
    "Estimating the probabilities is simply a matter of counting, and there are number of approaches that will work.  One is to use one of the tokenizers to count up how many times each word and each bigram appears in each review, and then sum those up over all reviews.  You might want to know that te `CountVectorizer` has a `.get_feature_names()` method which gives the string associated with each column.  (Question for thought: Why doesn't the `HashingVectorizer` have a similar method?)\n",
    "\n",
    "*Questions:* This statistic is a ratio and problematic when the denominator is small.  We can fix this by applying Bayesian smoothing to $p(w)$ (i.e. mixing the empirical distribution with the uniform distribution over the vocabulary).\n",
    "\n",
    "1. How does changing this smoothing parameter affect the word pairs you get qualitatively?\n",
    "\n",
    "2. We can interpret the smoothing parameter as adding a constant number of occurrences of each word to our distribution.  Does this help you determine set a reasonable value for this 'prior factor'?\n",
    "\n",
    "3. For fun: also check out [Amazon's Statistically Improbable Phrases](http://en.wikipedia.org/wiki/Statistically_Improbable_Phrases).\n",
    "\n",
    "*Implementation note:*\n",
    "As you adjust the size of the Bayesian smoothing parameter, you will notice first nonsense phrases being removed and then legitimate bigrams being removed, leaving you with only generic bigrams.  The goal is to find a value of the smoothing parameter between these two transitions.\n",
    "\n",
    "The reference solution is not an aggressive filterer: it errors in favor of leaving apparently nonsensical words. On further consideration, many of these are actually somewhat meaningful. The smoothing parameter chosen in the reference solution is equivalent to giving each word 90 previous appearances prior to considering this data.  This was chosen by generating a list of bigrams for a range of smoothing parameters and seeing how many of the bigrams were shared between neighboring values.  When the shared fraction reached 95%, we judged the solution to have converged.  Note that `min_df` should not be set too high, where it could exclude these borderline words."
   ]
  },
  {
   "cell_type": "code",
   "execution_count": 11,
   "metadata": {
    "collapsed": true
   },
   "outputs": [],
   "source": [
    "import scipy.sparse\n",
    "from collections import defaultdict\n",
    "import dill\n",
    "from sklearn.feature_extraction.text import CountVectorizer\n",
    "from sklearn.model_selection import train_test_split, GridSearchCV\n",
    "from itertools import *\n",
    "from tqdm import tqdm_notebook\n",
    "from grader import score\n",
    "import heapq\n",
    "from random import randint"
   ]
  },
  {
   "cell_type": "code",
   "execution_count": null,
   "metadata": {
    "collapsed": true
   },
   "outputs": [],
   "source": [
    "# restaurant_reviews = dill.load(open(\"Rest_Reviews.pkl\", \"r\")) #try first 100,000 of those"
   ]
  },
  {
   "cell_type": "code",
   "execution_count": null,
   "metadata": {
    "collapsed": true
   },
   "outputs": [],
   "source": [
    "# rand_param = 5"
   ]
  },
  {
   "cell_type": "code",
   "execution_count": null,
   "metadata": {
    "collapsed": true
   },
   "outputs": [],
   "source": [
    "# revs = [x for x in restaurant_reviews if randint(1,10) <= rand_param]\n",
    "#"
   ]
  },
  {
   "cell_type": "code",
   "execution_count": null,
   "metadata": {
    "collapsed": true
   },
   "outputs": [],
   "source": [
    "# revs[0:5]"
   ]
  },
  {
   "cell_type": "code",
   "execution_count": null,
   "metadata": {
    "collapsed": true
   },
   "outputs": [],
   "source": [
    "# print len(revs),\",\",  len(restaurant_reviews)\n",
    "#"
   ]
  },
  {
   "cell_type": "code",
   "execution_count": 12,
   "metadata": {
    "collapsed": true
   },
   "outputs": [],
   "source": [
    "review_counter1 = CountVectorizer(ngram_range=(1,1), stop_words='english')"
   ]
  },
  {
   "cell_type": "code",
   "execution_count": 13,
   "metadata": {
    "collapsed": true
   },
   "outputs": [],
   "source": [
    "review_counter2 = CountVectorizer(ngram_range=(2,2), stop_words='english')"
   ]
  },
  {
   "cell_type": "code",
   "execution_count": 14,
   "metadata": {
    "collapsed": true
   },
   "outputs": [],
   "source": [
    "# count_matrix = review_counter.fit_transform(revs)\n",
    "count_matrix1 = review_counter1.fit_transform(restaurant_reviews)"
   ]
  },
  {
   "cell_type": "code",
   "execution_count": 15,
   "metadata": {
    "collapsed": true
   },
   "outputs": [],
   "source": [
    "# count_matrix = review_counter.fit_transform(revs)\n",
    "count_matrix2 = review_counter2.fit_transform(restaurant_reviews)"
   ]
  },
  {
   "cell_type": "code",
   "execution_count": 16,
   "metadata": {
    "collapsed": true
   },
   "outputs": [],
   "source": [
    "feature_list1 = list(review_counter1.get_feature_names())"
   ]
  },
  {
   "cell_type": "code",
   "execution_count": 17,
   "metadata": {
    "collapsed": true
   },
   "outputs": [],
   "source": [
    "feature_list2 = list(review_counter2.get_feature_names())"
   ]
  },
  {
   "cell_type": "code",
   "execution_count": 18,
   "metadata": {
    "collapsed": true
   },
   "outputs": [],
   "source": [
    "def using_csr(x, features):\n",
    "#     cx = scipy.sparse.coo_matrix(x)\n",
    "\n",
    "    count = defaultdict(int)\n",
    "    cx = scipy.sparse.csr_matrix.sum(x, axis = 0)\n",
    "    for i in range(0, len(features)):\n",
    "        count[features[i]] += cx[0, i]\n",
    "    return count"
   ]
  },
  {
   "cell_type": "code",
   "execution_count": null,
   "metadata": {
    "collapsed": true
   },
   "outputs": [],
   "source": [
    "# namelist = ['apple','banana','mango','cherry']\n",
    "\n",
    "# numlist = [4,7,2,10]"
   ]
  },
  {
   "cell_type": "code",
   "execution_count": null,
   "metadata": {
    "collapsed": true
   },
   "outputs": [],
   "source": [
    "# dict(zip(namelist, numlist))"
   ]
  },
  {
   "cell_type": "code",
   "execution_count": null,
   "metadata": {
    "collapsed": true
   },
   "outputs": [],
   "source": [
    "# count = dict()\n",
    "# for i in range(0,len(namelist)):\n",
    "#     count[namelist[i]] = numlist[i]"
   ]
  },
  {
   "cell_type": "code",
   "execution_count": null,
   "metadata": {
    "collapsed": true
   },
   "outputs": [],
   "source": [
    "# count"
   ]
  },
  {
   "cell_type": "code",
   "execution_count": 19,
   "metadata": {
    "collapsed": true
   },
   "outputs": [],
   "source": [
    "counts1 = using_csr(count_matrix1, feature_list1)"
   ]
  },
  {
   "cell_type": "code",
   "execution_count": 20,
   "metadata": {
    "collapsed": true
   },
   "outputs": [],
   "source": [
    "counts2 = using_csr(count_matrix2, feature_list2)"
   ]
  },
  {
   "cell_type": "code",
   "execution_count": 21,
   "metadata": {},
   "outputs": [
    {
     "data": {
      "text/plain": [
       "defaultdict(int,\n",
       "            {u'banaoffee': 1,\n",
       "             u'vinaloo': 2,\n",
       "             u'blaggetry': 2,\n",
       "             u'woods': 479,\n",
       "             u'clotted': 58,\n",
       "             u'spiders': 15,\n",
       "             u'paiza': 12,\n",
       "             u'woody': 237,\n",
       "             u'trawling': 1,\n",
       "             u'comically': 47,\n",
       "             u'fawk': 5,\n",
       "             u'asapargus': 3,\n",
       "             u'incrediblyyyy': 1,\n",
       "             u'caner': 1,\n",
       "             u'canes': 250,\n",
       "             u'scutter': 2,\n",
       "             u'jacquemot': 1,\n",
       "             u'igual': 4,\n",
       "             u'mooded': 1,\n",
       "             u'caned': 5,\n",
       "             u'bubbies': 9,\n",
       "             u'spagehetti': 6,\n",
       "             u'patying': 1,\n",
       "             u'canel': 1,\n",
       "             u'kalecia': 1,\n",
       "             u'emptiy': 1,\n",
       "             u'aigooo': 1,\n",
       "             u'touristed': 1,\n",
       "             u'slothful': 4,\n",
       "             u'naturopathic': 1,\n",
       "             u'cheesybread': 1,\n",
       "             u'touristen': 3,\n",
       "             u'pigment': 5,\n",
       "             u'montelcino': 1,\n",
       "             u'touristes': 4,\n",
       "             u'transvestism': 1,\n",
       "             u'inpeccable': 1,\n",
       "             u'bringing': 3528,\n",
       "             u'intruduced': 3,\n",
       "             u'unrefridgerated': 2,\n",
       "             u'tcby': 14,\n",
       "             u'wooded': 14,\n",
       "             u'grueling': 47,\n",
       "             u'anteadote': 1,\n",
       "             u'wooden': 1226,\n",
       "             u'wholemeal': 15,\n",
       "             u'wednesday': 3148,\n",
       "             u'virtuosos': 1,\n",
       "             u'wooder': 1,\n",
       "             u'maaaaazing': 1,\n",
       "             u'bbqs': 64,\n",
       "             u'fuera': 3,\n",
       "             u'chimichuri': 31,\n",
       "             u'adicteeeddd': 1,\n",
       "             u'acordeon': 1,\n",
       "             u'bbqy': 1,\n",
       "             u'chimichura': 1,\n",
       "             u'hellafide': 1,\n",
       "             u'270': 34,\n",
       "             u'bbqb': 1,\n",
       "             u'272': 2,\n",
       "             u'273': 3,\n",
       "             u'274': 3,\n",
       "             u'275': 23,\n",
       "             u'276': 1,\n",
       "             u'277': 3,\n",
       "             u'278': 3,\n",
       "             u'279': 3,\n",
       "             u'snuggled': 27,\n",
       "             u'cbg_w0id07p2khncjkvvuq': 2,\n",
       "             u'cheesetake': 3,\n",
       "             u'videodrome': 1,\n",
       "             u'longonisa': 4,\n",
       "             u'numeral': 2,\n",
       "             u'pawed': 5,\n",
       "             u'27c': 2,\n",
       "             u'dayumn': 1,\n",
       "             u'holyyyyyyyyyy': 1,\n",
       "             u'dayumm': 3,\n",
       "             u'wagya': 1,\n",
       "             u'affiliates': 5,\n",
       "             u'27s': 2,\n",
       "             u'wagyy': 1,\n",
       "             u'scharffenberger': 1,\n",
       "             u'wagyu': 1891,\n",
       "             u'affiliated': 123,\n",
       "             u'bronto': 3,\n",
       "             u'kids': 16640,\n",
       "             u'uplifting': 35,\n",
       "             u'kidz': 1,\n",
       "             u'deferring': 9,\n",
       "             u'poatoes': 9,\n",
       "             u'controversy': 29,\n",
       "             u'kida': 3,\n",
       "             u'ag7kynijeho': 1,\n",
       "             u'kidd': 7,\n",
       "             u'talbe': 2,\n",
       "             u'kido': 2,\n",
       "             u'noshville': 1,\n",
       "             u'topography': 1,\n",
       "             u'hsoylp9but_qd3ckspnlcg': 1,\n",
       "             u'dissattisfied': 1,\n",
       "             u'overstocks': 1,\n",
       "             u'dnd': 1,\n",
       "             u'agassi': 16,\n",
       "             u'dnf': 2,\n",
       "             u'dna': 34,\n",
       "             u'dnb': 1,\n",
       "             u'blasse': 1,\n",
       "             u'braqndy': 1,\n",
       "             u'inevitable': 140,\n",
       "             u'dnt': 17,\n",
       "             u'dnr': 4,\n",
       "             u'toyose': 1,\n",
       "             u'vegas2go': 1,\n",
       "             u'forksis': 1,\n",
       "             u'ggggooooaaaaallllll': 1,\n",
       "             u'populations': 7,\n",
       "             u'mesmerize': 6,\n",
       "             u'juiceaaaay': 1,\n",
       "             u'yahoo': 61,\n",
       "             u'exuberantly': 2,\n",
       "             u'bummy': 2,\n",
       "             u'diligaf': 1,\n",
       "             u'caneles': 1,\n",
       "             u'listenin': 2,\n",
       "             u'domlehs': 1,\n",
       "             u'enflamed': 1,\n",
       "             u'cuilvers440': 1,\n",
       "             u'fatooush': 1,\n",
       "             u'jumbling': 1,\n",
       "             u'dn0': 2,\n",
       "             u'gershon': 1,\n",
       "             u'conossiours': 1,\n",
       "             u'expressively': 1,\n",
       "             u'sweettom': 1,\n",
       "             u'cockier': 1,\n",
       "             u'dobdden97_qwuq90g3fahq': 8,\n",
       "             u'gucchi': 1,\n",
       "             u'pusssy': 1,\n",
       "             u'embarressing': 2,\n",
       "             u'titanium': 3,\n",
       "             u'dishearteningly': 2,\n",
       "             u'ahhhwwwsuuuummmm': 1,\n",
       "             u'v7lutwd2u_lv7ubwgqdyjq': 2,\n",
       "             u'popeyesexcaliber': 1,\n",
       "             u'getchoa': 2,\n",
       "             u'overhhead': 1,\n",
       "             u'duplings': 2,\n",
       "             u'shirked': 1,\n",
       "             u'struesel': 1,\n",
       "             u'krait': 2,\n",
       "             u'exelent': 7,\n",
       "             u'dannon': 2,\n",
       "             u'fukunaga': 2,\n",
       "             u'baladi': 1,\n",
       "             u'barbra': 6,\n",
       "             u'wheatear': 1,\n",
       "             u'goober': 5,\n",
       "             u'assimilated': 5,\n",
       "             u'garnishments': 17,\n",
       "             u'dinosaurs': 17,\n",
       "             u'wrong': 23775,\n",
       "             u'wristlet': 2,\n",
       "             u'huuugggge': 1,\n",
       "             u'sentencing': 1,\n",
       "             u'urspr\\xfcnglich': 1,\n",
       "             u'smellavator': 1,\n",
       "             u'assimilates': 1,\n",
       "             u'gao7jqgmjkskvbqygx72ta': 1,\n",
       "             u'architector': 1,\n",
       "             u'yuppppppp': 1,\n",
       "             u'ou8pys24azdwg0ru_vucqg': 3,\n",
       "             u'chandon': 12,\n",
       "             u'jimboys': 1,\n",
       "             u'poudin': 1,\n",
       "             u'disengaging': 1,\n",
       "             u'smashers': 2,\n",
       "             u'crossoint': 1,\n",
       "             u'snugly': 7,\n",
       "             u'welcomed': 1473,\n",
       "             u'concurrence': 2,\n",
       "             u'aromatically': 3,\n",
       "             u'artesenia': 1,\n",
       "             u'engrossed': 47,\n",
       "             u'tillamook': 29,\n",
       "             u'foreal': 2,\n",
       "             u'gaaaaaross': 1,\n",
       "             u'duece': 9,\n",
       "             u'activating': 2,\n",
       "             u'takeshita': 1,\n",
       "             u'welcomes': 131,\n",
       "             u'fir': 53,\n",
       "             u'transitions': 20,\n",
       "             u'fiv': 1,\n",
       "             u'fit': 3452,\n",
       "             u'connesiour': 1,\n",
       "             u'fiz': 5,\n",
       "             u'screaming': 1494,\n",
       "             u'fix': 5637,\n",
       "             u'fiy': 1,\n",
       "             u'reguest': 1,\n",
       "             u'hahahahahahahaaaaa': 1,\n",
       "             u'fib': 7,\n",
       "             u'intrupided': 1,\n",
       "             u'fia': 3,\n",
       "             u'fif': 1,\n",
       "             u'fig': 1228,\n",
       "             u'fid': 2,\n",
       "             u'fie': 5,\n",
       "             u'statisified': 1,\n",
       "             u'fik': 1,\n",
       "             u'fii': 1,\n",
       "             u'fin': 680,\n",
       "             u'fil': 495,\n",
       "             u'foolin': 3,\n",
       "             u'helpul': 2,\n",
       "             u'vouchers': 246,\n",
       "             u'sovi': 1,\n",
       "             u'morellino': 4,\n",
       "             u'coolmobee': 1,\n",
       "             u'classe': 2,\n",
       "             u'aytcx1h_ftz7fl4uge8abw': 2,\n",
       "             u'gophers': 2,\n",
       "             u'fannies': 1,\n",
       "             u'fi7': 2,\n",
       "             u'pazoooooookie': 1,\n",
       "             u'barton': 5,\n",
       "             u'astroglide': 2,\n",
       "             u'srirapathai': 1,\n",
       "             u'bartos': 1,\n",
       "             u'bartop': 27,\n",
       "             u'tortallini': 2,\n",
       "             u'waialae': 2,\n",
       "             u'dgc': 10,\n",
       "             u'maj\\u0105': 1,\n",
       "             u'g3pnj_zj86xfxatpvbea2q': 1,\n",
       "             u'parasites': 14,\n",
       "             u'dankness': 3,\n",
       "             u'2day': 4,\n",
       "             u'awemazing': 1,\n",
       "             u'buttercups': 1,\n",
       "             u'golem': 3,\n",
       "             u'pho43rd': 1,\n",
       "             u'mazui': 1,\n",
       "             u'snoochie': 1,\n",
       "             u'simiply': 1,\n",
       "             u'asanebo': 1,\n",
       "             u'dinginess': 4,\n",
       "             u'guitarists': 8,\n",
       "             u'delishhhhhhhhhh': 1,\n",
       "             u'abbott': 9,\n",
       "             u'istanjmdnrhp0tymb483oq': 2,\n",
       "             u'pumpking': 4,\n",
       "             u'underfoot': 7,\n",
       "             u'allllllllllllll': 1,\n",
       "             u'5ohxwa2qm86xsmbqoisfvq': 1,\n",
       "             u'delelict': 1,\n",
       "             u'pumpkins': 14,\n",
       "             u'crammings': 1,\n",
       "             u'pumpkiny': 6,\n",
       "             u'berwick': 3,\n",
       "             u'heyyyyyyyyy': 2,\n",
       "             u'husbands': 868,\n",
       "             u'sickeningly': 66,\n",
       "             u'reaaaall': 1,\n",
       "             u'absolved': 1,\n",
       "             u'derlivering': 1,\n",
       "             u'carouser': 1,\n",
       "             u'buritos': 7,\n",
       "             u'ineffectively': 2,\n",
       "             u'whatsmore': 1,\n",
       "             u'yester': 7,\n",
       "             u'loook': 1,\n",
       "             u'b5c0q6sifahnrwc5fu3tyw': 2,\n",
       "             u'curiouser': 1,\n",
       "             u'445pm': 3,\n",
       "             u'filibertos': 403,\n",
       "             u'20sec': 1,\n",
       "             u'pennance': 1,\n",
       "             u'brunching': 30,\n",
       "             u'looot': 2,\n",
       "             u'conrmeal': 1,\n",
       "             u'cobsider': 1,\n",
       "             u'masted': 1,\n",
       "             u'parallelized': 1,\n",
       "             u'tenisa': 2,\n",
       "             u'renovated': 443,\n",
       "             u'shiverrrrrrrrrrrrr': 1,\n",
       "             u'oldy': 1,\n",
       "             u'gaskets': 9,\n",
       "             u'needed': 14256,\n",
       "             u'grossness': 30,\n",
       "             u'motuth': 1,\n",
       "             u'fuzziness': 3,\n",
       "             u'genesis': 10,\n",
       "             u'blackfriars': 6,\n",
       "             u'primovero': 1,\n",
       "             u'crwam': 1,\n",
       "             u'finalement': 5,\n",
       "             u'summercamp': 1,\n",
       "             u'richhhh': 1,\n",
       "             u'emencely': 1,\n",
       "             u'swagzilla': 5,\n",
       "             u'dehiderated': 1,\n",
       "             u'condesending': 3,\n",
       "             u'ahmed': 6,\n",
       "             u'ahmee': 1,\n",
       "             u'exclaimer': 1,\n",
       "             u'craved': 289,\n",
       "             u'r21378558': 1,\n",
       "             u'xxth4l2hzfg1whlch8yvzw': 2,\n",
       "             u'chimichury': 2,\n",
       "             u'laied': 1,\n",
       "             u'sh1t': 8,\n",
       "             u'endspazout': 1,\n",
       "             u'esqualido': 1,\n",
       "             u'reurn': 1,\n",
       "             u'cloudear': 1,\n",
       "             u'laien': 1,\n",
       "             u'craven': 3,\n",
       "             u'consenting': 1,\n",
       "             u'saltimbicca': 1,\n",
       "             u'bogan': 1,\n",
       "             u'entirerly': 1,\n",
       "             u'realmexicanfood': 1,\n",
       "             u'sitin': 1,\n",
       "             u'sitio': 7,\n",
       "             u'angstful': 1,\n",
       "             u'cakiness': 1,\n",
       "             u'teeheeee': 1,\n",
       "             u'1child': 1,\n",
       "             u'mickle': 1,\n",
       "             u'rhcs': 1,\n",
       "             u'greenback': 1,\n",
       "             u'calbee': 1,\n",
       "             u'shipments': 17,\n",
       "             u'45th': 5,\n",
       "             u'_iziga': 2,\n",
       "             u'dailed': 1,\n",
       "             u'_jhswz6qexzzb0aa1enfva': 2,\n",
       "             u'errors': 245,\n",
       "             u'reverence': 15,\n",
       "             u'isye6oxjnoy3sml': 1,\n",
       "             u'fluster': 4,\n",
       "             u'majo': 2,\n",
       "             u'maji': 2,\n",
       "             u'ddeuk': 1,\n",
       "             u'maje': 1,\n",
       "             u'balsaic': 1,\n",
       "             u'ragnarok': 2,\n",
       "             u'nettle': 11,\n",
       "             u'tech': 144,\n",
       "             u'paneling': 146,\n",
       "             u'inexspensive': 3,\n",
       "             u'trompe': 2,\n",
       "             u'crunked': 2,\n",
       "             u'braising': 26,\n",
       "             u'trompo': 4,\n",
       "             u'dicker': 1,\n",
       "             u'dickes': 1,\n",
       "             u'rubytuesday': 1,\n",
       "             u'brocolii': 2,\n",
       "             u'dickel': 3,\n",
       "             u'dickem': 1,\n",
       "             u'tromps': 1,\n",
       "             u'dontfallforit': 1,\n",
       "             u'dicked': 1,\n",
       "             u'hounded': 18,\n",
       "             u'dauce': 1,\n",
       "             u'apace': 1,\n",
       "             u'n2rrw15ovlymuwemrpgug': 1,\n",
       "             u'bullshitted': 1,\n",
       "             u'lubs': 1,\n",
       "             u'dokbokki': 1,\n",
       "             u'122489479': 1,\n",
       "             u'restaus': 2,\n",
       "             u'lubz': 1,\n",
       "             u'caramelis\\xe9e': 1,\n",
       "             u'nordique': 4,\n",
       "             u'lube': 60,\n",
       "             u'bullshitter': 3,\n",
       "             u'luba': 1,\n",
       "             u'hanbaga': 1,\n",
       "             u'littlesouthwest': 1,\n",
       "             u'hoeing': 2,\n",
       "             u'iowatasmic': 1,\n",
       "             u'upachak': 1,\n",
       "             u'iate': 1,\n",
       "             u'arothron': 1,\n",
       "             u'helluv': 2,\n",
       "             u'uncleanliness': 16,\n",
       "             u'oakcreek': 1,\n",
       "             u'kcco': 5,\n",
       "             u'hostessish': 2,\n",
       "             u'periquitas': 1,\n",
       "             u'patch': 68,\n",
       "             u'tsingtaos': 1,\n",
       "             u'coloda': 6,\n",
       "             u'churriauce': 2,\n",
       "             u'conant': 77,\n",
       "             u'strrets': 1,\n",
       "             u'heirloon': 2,\n",
       "             u'vember': 2,\n",
       "             u'heirloom': 831,\n",
       "             u'_filetto': 1,\n",
       "             u'etic': 1,\n",
       "             u'callander': 3,\n",
       "             u'rabanos': 1,\n",
       "             u'happycow': 4,\n",
       "             u'irs': 29,\n",
       "             u'irt': 1,\n",
       "             u'aaabbbooouuuttt': 1,\n",
       "             u'bandaras': 2,\n",
       "             u'toastettes': 6,\n",
       "             u'irk': 33,\n",
       "             u'irl': 3,\n",
       "             u'irn': 26,\n",
       "             u'iro': 10,\n",
       "             u'conductive': 1,\n",
       "             u'ira': 16,\n",
       "             u'digidy': 1,\n",
       "             u'epically': 33,\n",
       "             u'geebee': 7,\n",
       "             u'discipline': 53,\n",
       "             u'r\\xeeo': 2,\n",
       "             u'extend': 189,\n",
       "             u'nature': 708,\n",
       "             u'qta9nl8sg': 2,\n",
       "             u'fruits': 1330,\n",
       "             u'lapping': 16,\n",
       "             u'tendony': 3,\n",
       "             u'camren': 2,\n",
       "             u'extent': 265,\n",
       "             u'tendons': 192,\n",
       "             u'lightfare': 1,\n",
       "             u'shelfish': 4,\n",
       "             u'gefelte': 1,\n",
       "             u'yesteryear': 38,\n",
       "             u'daigingo': 1,\n",
       "             u'fruity': 1051,\n",
       "             u'creeepy': 1,\n",
       "             u'scallopology': 1,\n",
       "             u'finfish': 1,\n",
       "             u'lunches': 1202,\n",
       "             u'cassolettes': 1,\n",
       "             u'zigged': 2,\n",
       "             u'4orders': 1,\n",
       "             u'decends': 1,\n",
       "             u'limitedly': 1,\n",
       "             u'gopher': 3,\n",
       "             u'vocka': 1,\n",
       "             u'chlorophyll': 1,\n",
       "             u'bubblegutitis': 1,\n",
       "             u'sllllooooooooowww': 1,\n",
       "             u'escalade': 7,\n",
       "             u'froed': 1,\n",
       "             u'humming': 74,\n",
       "             u'hummina': 2,\n",
       "             u'smackdown': 12,\n",
       "             u'9ja': 1,\n",
       "             u'underdone': 261,\n",
       "             u'triviality': 1,\n",
       "             u'dymlx9yfkrkp4vaif2hkjq': 2,\n",
       "             u'steenbock': 13,\n",
       "             u'ajoblanco': 1,\n",
       "             u'hippiesque': 1,\n",
       "             u'zammis': 1,\n",
       "             u'baloon': 5,\n",
       "             u'papasito': 1,\n",
       "             u'barque': 3,\n",
       "             u'hepc': 1,\n",
       "             u'doubts': 217,\n",
       "             u'hepl': 2,\n",
       "             u'cheuvronts': 8,\n",
       "             u'cappicino': 3,\n",
       "             u'professionally': 202,\n",
       "             u'misconstrued': 8,\n",
       "             u'droppin': 10,\n",
       "             u'mindscrew': 1,\n",
       "             u'forwarder': 1,\n",
       "             u'unbusinesslike': 1,\n",
       "             u'chhese': 1,\n",
       "             u'majig': 3,\n",
       "             u'majid': 1,\n",
       "             u'unos': 14,\n",
       "             u'honeslty': 15,\n",
       "             u'majic': 6,\n",
       "             u'riparian': 1,\n",
       "             u'majik': 1,\n",
       "             u'flutterbys': 1,\n",
       "             u'mujumbo': 1,\n",
       "             u'waddell': 11,\n",
       "             u'hyperdrive': 1,\n",
       "             u'5055': 1,\n",
       "             u'5056': 1,\n",
       "             u'diservice': 2,\n",
       "             u'mixmixmixmixmix': 1,\n",
       "             u'memorial': 460,\n",
       "             u'inventively': 3,\n",
       "             u'skinnylicious': 9,\n",
       "             u'portobella': 30,\n",
       "             u'portobello': 806,\n",
       "             u'9nuxlme4ymrpxxsrw5vkhw': 1,\n",
       "             u'buahahaha': 3,\n",
       "             u'spews': 3,\n",
       "             u'wuerstl': 1,\n",
       "             u'xxoo': 4,\n",
       "             u'beermapping': 1,\n",
       "             u'viticulturist': 1,\n",
       "             u'spewy': 1,\n",
       "             u'bhindhi': 1,\n",
       "             u'comanion': 1,\n",
       "             u'whipcream': 3,\n",
       "             u'displace': 10,\n",
       "             u'orgasmico': 1,\n",
       "             u'95ea': 3,\n",
       "             u'yelpmazing': 2,\n",
       "             u'zoomin': 2,\n",
       "             u'petaled': 2,\n",
       "             u'furlough': 1,\n",
       "             u'smallness': 12,\n",
       "             u'fregula': 5,\n",
       "             u'mentors': 1,\n",
       "             u'pandaliciousforme': 5,\n",
       "             u'stillness': 1,\n",
       "             u'potbellys': 12,\n",
       "             u'lonelier': 3,\n",
       "             u'bxvr9e0_tq83ri3nzwddsg': 1,\n",
       "             u'corporate': 1802,\n",
       "             u'massaging': 11,\n",
       "             u'provincal': 1,\n",
       "             u'vegeteables': 1,\n",
       "             u'bellow': 13,\n",
       "             u'absurdities': 2,\n",
       "             u'bellos': 1,\n",
       "             u'sometrhing': 1,\n",
       "             u'bizatch': 1,\n",
       "             u'visability': 1,\n",
       "             u'belloc': 1,\n",
       "             u'adenhart': 2,\n",
       "             u'immeadiately': 4,\n",
       "             u'upsides': 21,\n",
       "             u'zuf\\xe4llig': 2,\n",
       "             u'probesitzen': 1,\n",
       "             u'ischitana': 1,\n",
       "             u'shiiz': 1,\n",
       "             u'advancement': 8,\n",
       "             u'competitively': 43,\n",
       "             u'tarimisu': 3,\n",
       "             u'coloardo': 1,\n",
       "             u'llovely': 1,\n",
       "             u'duffel': 4,\n",
       "             u'shiii': 2,\n",
       "             u'noshery': 1,\n",
       "             u'biscutsand': 1,\n",
       "             u'coetition': 1,\n",
       "             u'0a3peoul8nkmlvj8ef5': 2,\n",
       "             u'j4bakw': 1,\n",
       "             u'constrictors': 1,\n",
       "             u'unequivocally': 28,\n",
       "             u'palazzo': 1550,\n",
       "             u'indicative': 121,\n",
       "             u'satriani': 3,\n",
       "             u'schienen': 1,\n",
       "             u'd\\xeener': 1,\n",
       "             u'vactioning': 1,\n",
       "             u'stooopid': 1,\n",
       "             u'pisatchio': 2,\n",
       "             u'\\u6ca1\\u6709\\u591a\\u5c11\\u8089': 1,\n",
       "             u'mouhamara': 1,\n",
       "             u'celebr8ion': 1,\n",
       "             u'plained': 2,\n",
       "             u'550cal': 1,\n",
       "             u'crowd': 9215,\n",
       "             u'crowe': 1,\n",
       "             u'stern': 64,\n",
       "             u'crown': 552,\n",
       "             u'crows': 14,\n",
       "             u'tooken': 2,\n",
       "             u'azienda': 1,\n",
       "             u'emphases': 1,\n",
       "             u'tooked': 2,\n",
       "             u'fiduciary': 1,\n",
       "             u'amantarealthaifood': 1,\n",
       "             u'perchance': 7,\n",
       "             u'lockdown': 6,\n",
       "             u'naural': 1,\n",
       "             u'frut': 1,\n",
       "             u'fruo': 2,\n",
       "             u'impq3a': 1,\n",
       "             u'frum': 1,\n",
       "             u'ichie': 2,\n",
       "             u'completly': 46,\n",
       "             u'60buck': 1,\n",
       "             u'balmier': 1,\n",
       "             u'mangonead': 1,\n",
       "             u'raddico': 1,\n",
       "             u'herrin': 27,\n",
       "             u'caskets': 2,\n",
       "             u'alrc': 1,\n",
       "             u'visitng': 16,\n",
       "             u'restlessness': 1,\n",
       "             u'spaceships': 1,\n",
       "             u'mariokart': 17,\n",
       "             u'anomalous': 5,\n",
       "             u'channelled': 1,\n",
       "             u'kilgore': 1,\n",
       "             u'dahlings': 1,\n",
       "             u'larossa': 1,\n",
       "             u'prcey': 1,\n",
       "             u'honeymoom': 1,\n",
       "             u'marshall': 42,\n",
       "             u'honeymoon': 217,\n",
       "             u'mamoisa': 1,\n",
       "             u'cheesse': 1,\n",
       "             u'parlait': 1,\n",
       "             u'dnk': 3,\n",
       "             u'mangos': 97,\n",
       "             u'trrump': 1,\n",
       "             u'positive': 4137,\n",
       "             u'despised': 15,\n",
       "             u'fabric': 121,\n",
       "             u'tzx3': 1,\n",
       "             u'anoher': 1,\n",
       "             u'raped': 54,\n",
       "             u'grasping': 18,\n",
       "             u'despises': 17,\n",
       "             u'rapes': 1,\n",
       "             u'afreakinmazing': 1,\n",
       "             u'deperature': 1,\n",
       "             u'cerignola': 6,\n",
       "             u'refiills': 1,\n",
       "             u'robeks': 1,\n",
       "             u'standatds': 1,\n",
       "             u'shwarrma': 1,\n",
       "             u'thesaurus': 14,\n",
       "             u'cordonado': 1,\n",
       "             u'scuttles': 1,\n",
       "             u'hmmhmm': 2,\n",
       "             u'freebirds': 3,\n",
       "             u'meatwine': 2,\n",
       "             u'congratulations': 152,\n",
       "             u'humbled': 16,\n",
       "             u'wehhhh': 1,\n",
       "             u'stubble': 2,\n",
       "             u'passonfruit': 1,\n",
       "             u'layin': 1,\n",
       "             u'wacked': 9,\n",
       "             u'steping': 1,\n",
       "             u'nutrtious': 1,\n",
       "             u'humbleo': 1,\n",
       "             u'humbles': 1,\n",
       "             u'nicest': 1094,\n",
       "             u'sssoooo': 5,\n",
       "             u'restauratnt': 1,\n",
       "             u'duals': 3,\n",
       "             u'creuset': 5,\n",
       "             u'frontenga': 1,\n",
       "             u'moderno': 2,\n",
       "             u'petrification': 1,\n",
       "             u'rechecking': 3,\n",
       "             u'bedsheet': 1,\n",
       "             u'moderny': 1,\n",
       "             u'sympathy': 73,\n",
       "             u'knawing': 2,\n",
       "             u'fngtcll1t': 2,\n",
       "             u'chattiest': 2,\n",
       "             u'cambodia': 54,\n",
       "             u'sandaled': 2,\n",
       "             u'underfed': 5,\n",
       "             u'scleanse': 1,\n",
       "             u'tippty': 1,\n",
       "             u'crowne': 8,\n",
       "             u'crownd': 1,\n",
       "             u'wordlessly': 8,\n",
       "             u'unpersonable': 3,\n",
       "             u'crucillon': 1,\n",
       "             u'duck_sauce': 1,\n",
       "             u'palme': 1,\n",
       "             u'conservatively': 22,\n",
       "             u'palma': 7,\n",
       "             u'jfesknrcardv3qriayq_oa': 1,\n",
       "             u'godetevi': 2,\n",
       "             u'macshack': 3,\n",
       "             u'edos': 2,\n",
       "             u'meteorologist': 1,\n",
       "             u'continentally': 1,\n",
       "             u'povel': 1,\n",
       "             u'perdictable': 1,\n",
       "             u'swiched': 3,\n",
       "             u'findness': 1,\n",
       "             u'lary': 1,\n",
       "             u'steelhead': 34,\n",
       "             u'exxxxxcellent': 1,\n",
       "             u'chaim': 1,\n",
       "             u'chain': 9684,\n",
       "             u'wrongggggg': 2,\n",
       "             u'2x4s': 5,\n",
       "             u'midiocre': 1,\n",
       "             u'mesera': 1,\n",
       "             u'devinely': 2,\n",
       "             u'chair': 1627,\n",
       "             u'chais': 9,\n",
       "             u'mesero': 1,\n",
       "             u'macht': 5,\n",
       "             u'machu': 3,\n",
       "             u'ballet': 48,\n",
       "             u'amplification': 2,\n",
       "             u'baller': 103,\n",
       "             u'grappler': 1,\n",
       "             u'teasoon': 1,\n",
       "             u'lara': 30,\n",
       "             u'balley': 3,\n",
       "             u'cebuanos': 2,\n",
       "             u'gyeop': 1,\n",
       "             u'balled': 27,\n",
       "             u'grappled': 2,\n",
       "             u'bramblers': 1,\n",
       "             u'ballen': 1,\n",
       "             u'connecting': 87,\n",
       "             u'macho': 134,\n",
       "             u'machi': 41,\n",
       "             u'abundent': 3,\n",
       "             u'amebi': 2,\n",
       "             u'octagonal': 2,\n",
       "             u'jeri': 1,\n",
       "             u'flatbed': 5,\n",
       "             u'jerk': 2199,\n",
       "             u'minuts': 7,\n",
       "             u'ameba': 1,\n",
       "             u'olympus': 16,\n",
       "             u'gloomy': 75,\n",
       "             u'minuto': 5,\n",
       "             u'unpleasent': 12,\n",
       "             u'pakkoras': 1,\n",
       "             u'rechargable': 1,\n",
       "             u'exact': 2002,\n",
       "             u'minute': 8750,\n",
       "             u'az88': 59,\n",
       "             u'2pira9ze': 3,\n",
       "             u'cafebluebear': 1,\n",
       "             u'turntablists': 1,\n",
       "             u'8vow_cm6bcgio0hwgbcizw': 1,\n",
       "             u'hei\\xdfen': 1,\n",
       "             u'westcliff': 3,\n",
       "             u'kegging': 1,\n",
       "             u'buuf': 2,\n",
       "             u'tachos': 2,\n",
       "             u'ogler': 1,\n",
       "             u'buur': 1,\n",
       "             u'buut': 3,\n",
       "             u'trisha': 11,\n",
       "             u'ogled': 15,\n",
       "             u'adorns': 29,\n",
       "             u'bagging': 51,\n",
       "             u'pitalicious': 1,\n",
       "             u'corazon': 11,\n",
       "             u'burch': 3,\n",
       "             u'flinestone': 1,\n",
       "             u'colainder': 1,\n",
       "             u'wayward': 19,\n",
       "             u'baggins': 3,\n",
       "             u'bareeeely': 1,\n",
       "             u'wuah': 3,\n",
       "             u'fsezpcv89xbvcn_vb_y5ia': 2,\n",
       "             u'unintentionally': 35,\n",
       "             u'yummmie': 1,\n",
       "             u'drafted': 18,\n",
       "             u'possiblility': 1,\n",
       "             u'oldies': 123,\n",
       "             u'idiosyncratically': 1,\n",
       "             u'blunted': 2,\n",
       "             u'rl3emzzb5ksynqtw': 2,\n",
       "             u'sushiwavegas': 1,\n",
       "             u'foogy': 1,\n",
       "             u'skampers': 1,\n",
       "             u'owuld': 2,\n",
       "             u'yummyyummy': 1,\n",
       "             u'infianado': 1,\n",
       "             u'ponding': 1,\n",
       "             u'benson': 8,\n",
       "             u'insomnified': 1,\n",
       "             u'feauille': 1,\n",
       "             u'boubak': 1,\n",
       "             u'fledge': 4,\n",
       "             u'kopps': 2,\n",
       "             u'laaaaaame': 2,\n",
       "             u'appetitizing': 1,\n",
       "             u'cusack': 20,\n",
       "             u'snowbirds': 103,\n",
       "             u'bigaz': 1,\n",
       "             u'amazebawlss': 1,\n",
       "             u'ivfmmcfbhvzxq3epab8xsw': 2,\n",
       "             u'ufp': 1,\n",
       "             u'inquisitively': 1,\n",
       "             u'fakers': 10,\n",
       "             u'catsu': 2,\n",
       "             u'cornbeef': 54,\n",
       "             u'eggwhite': 14,\n",
       "             u'nextime': 1,\n",
       "             u'fakery': 5,\n",
       "             u'wang': 43,\n",
       "             u'wand': 21,\n",
       "             u'handbags': 9,\n",
       "             u'perished': 2,\n",
       "             u'hyatt': 107,\n",
       "             u'ladera': 2,\n",
       "             u'valvista': 1,\n",
       "             u'vigour': 2,\n",
       "             u'remved': 1,\n",
       "             u'oooooof': 1,\n",
       "             u'varient': 1,\n",
       "             u'ooooooo': 17,\n",
       "             u'oooooon': 1,\n",
       "             u'ooooooh': 21,\n",
       "             u'ooooook': 1,\n",
       "             u'approving': 9,\n",
       "             u'marzens': 1,\n",
       "             u'cardinality': 1,\n",
       "             u'sitevoice': 1,\n",
       "             u'rebounding': 1,\n",
       "             u'entrnace': 1,\n",
       "             u'wans': 9,\n",
       "             u'cheeeeaaaaappp': 1,\n",
       "             u'rutherford': 7,\n",
       "             u'gelatterias': 2,\n",
       "             u'brijole': 1,\n",
       "             u'following': 3109,\n",
       "             u'chatsu': 2,\n",
       "             u'pinta': 1,\n",
       "             u'\\u30c1\\u30c3\\u30d7\\u3068\\u30b5\\u30eb\\u30b5\\u30bd\\u30fc\\u30b9\\u3082\\u30aa\\u30b9\\u30b9\\u30e1': 1,\n",
       "             u'nonchalent': 3,\n",
       "             u'sauerkaut': 1,\n",
       "             u'stetson': 221,\n",
       "             u'whelms': 1,\n",
       "             u'impersonable': 6,\n",
       "             u'litre': 22,\n",
       "             u'chiiichanga': 1,\n",
       "             u'sangrarita': 2,\n",
       "             u'padriono': 1,\n",
       "             u'thanking': 173,\n",
       "             u'kiku': 13,\n",
       "             u'zooooooooooomg': 1,\n",
       "             u'bevys': 1,\n",
       "             u'chicklet': 1,\n",
       "             u'aarrron': 1,\n",
       "             u'arenovated': 1,\n",
       "             u'fueled': 74,\n",
       "             u'tqla': 43,\n",
       "             u'le\\xedmos': 1,\n",
       "             u'buriito': 1,\n",
       "             u'harmon': 58,\n",
       "             u'surfing': 87,\n",
       "             u'griled': 11,\n",
       "             u'elyses': 1,\n",
       "             u'substandards': 1,\n",
       "             u'kiko': 2,\n",
       "             u'taramasalata': 11,\n",
       "             u'kanburi': 1,\n",
       "             u'nebbish': 2,\n",
       "             u'skirmish': 1,\n",
       "             u'lukeafb': 1,\n",
       "             u'ingraciates': 1,\n",
       "             u'impactful': 11,\n",
       "             u'85257': 1,\n",
       "             u'bgood': 1,\n",
       "             u'mandasa': 1,\n",
       "             u'notski': 1,\n",
       "             u'oooookaaaaay': 1,\n",
       "             u'5ioo_sdpnd1afpedqwnzwg': 2,\n",
       "             u'yeahhhhh': 4,\n",
       "             u'jimmy': 1468,\n",
       "             u'pghoenix': 1,\n",
       "             u'gogogooo': 1,\n",
       "             u'jif': 5,\n",
       "             u'jig': 21,\n",
       "             u'jib': 29,\n",
       "             u'genteman': 1,\n",
       "             u'jia': 35,\n",
       "             u'jin': 164,\n",
       "             u'mnk4xn1hw': 1,\n",
       "             u'jim': 554,\n",
       "             u'tull': 3,\n",
       "             u'jii': 1,\n",
       "             u'jit': 1,\n",
       "             u'jiu': 9,\n",
       "             u'jis': 1,\n",
       "             u'jip': 22,\n",
       "             u'librarians': 2,\n",
       "             u'apron': 128,\n",
       "             u'fistting': 1,\n",
       "             u'shacked': 3,\n",
       "             u'8olg8j91ng_qu92whg5qfa': 5,\n",
       "             u'centrotre': 3,\n",
       "             u'bashful': 9,\n",
       "             u'sortes': 1,\n",
       "             u'overpowering': 1677,\n",
       "             u'aprox': 19,\n",
       "             u'henpecked': 2,\n",
       "             u'sorted': 120,\n",
       "             u'cohinita': 3,\n",
       "             u'awesoommmeee': 1,\n",
       "             u'dispite': 12,\n",
       "             u'instability': 1,\n",
       "             u'personalizing': 5,\n",
       "             u'quarter': 1407,\n",
       "             u'quartet': 39,\n",
       "             u'perfecttly': 1,\n",
       "             u'soux': 2,\n",
       "             u'salado': 12,\n",
       "             u'honduras': 10,\n",
       "             u'savarin': 4,\n",
       "             u'salade': 56,\n",
       "             u'sminoff': 1,\n",
       "             u'bitelv': 1,\n",
       "             u'salada': 5,\n",
       "             u'saladz': 1,\n",
       "             u'salady': 6,\n",
       "             u'mosow': 1,\n",
       "             u'baghali': 2,\n",
       "             u'breeches': 1,\n",
       "             u'salads': 14189,\n",
       "             u'gralex': 1,\n",
       "             u'aiiiiiiiiiiieeeeeeeeeee': 1,\n",
       "             u'gonoush': 1,\n",
       "             u'balada': 2,\n",
       "             u'souz': 1,\n",
       "             u'm\\xf3c': 1,\n",
       "             u'tienen': 18,\n",
       "             u'whacksauce': 1,\n",
       "             u'savasana': 1,\n",
       "             u'inwardly': 6,\n",
       "             u'taguara': 13,\n",
       "             u'madisonfishfry': 1,\n",
       "             u'tienes': 3,\n",
       "             u'longjing': 1,\n",
       "             u'35incl': 1,\n",
       "             u'frwio4konjv9o279ssykag': 1,\n",
       "             u'hamed': 2,\n",
       "             u'benching': 1,\n",
       "             u'whaterver': 2,\n",
       "             u'3425457': 1,\n",
       "             u'quibble': 122,\n",
       "             u'divertirsi': 1,\n",
       "             u'gpjff': 1,\n",
       "             u'jjah': 1,\n",
       "             u'abscence': 2,\n",
       "             u'jjam': 2,\n",
       "             u'assholish': 1,\n",
       "             u'spoked': 1,\n",
       "             u'yamazaki': 13,\n",
       "             u'tableaus': 1,\n",
       "             u'spoken': 419,\n",
       "             u'swagat': 35,\n",
       "             u'parkinson': 3,\n",
       "             u'kobebeef': 2,\n",
       "             u'overyelp': 1,\n",
       "             u'spokes': 38,\n",
       "             u'shandra': 1,\n",
       "             u'penitence': 1,\n",
       "             u'mrvegasvip': 2,\n",
       "             u'prodid': 1,\n",
       "             u'mcleod': 1,\n",
       "             u'geeeesh': 3,\n",
       "             u'surger': 2,\n",
       "             u'surges': 1,\n",
       "             u'snatch': 76,\n",
       "             u'arround': 5,\n",
       "             u'absorbs': 41,\n",
       "             u'surged': 1,\n",
       "             u'cassadon': 1,\n",
       "             u'yeahhhh': 12,\n",
       "             u'ordereed': 1,\n",
       "             u'rehab': 289,\n",
       "             u'lonnnngggg': 1,\n",
       "             u'touch\\xe9': 4,\n",
       "             u'disasterous': 8,\n",
       "             u'mazng': 1,\n",
       "             u'hungrrry': 1,\n",
       "             u'ahhhhhhhh': 12,\n",
       "             u'turned': 7939,\n",
       "             u'garliccy': 1,\n",
       "             u'4761': 1,\n",
       "             u'turney': 2,\n",
       "             u'uninterrupted': 13,\n",
       "             u'turner': 22,\n",
       "             u'borough': 11,\n",
       "             u'sligth': 1,\n",
       "             u'pimply': 12,\n",
       "             u'mayem': 1,\n",
       "             u'cappicoal': 1,\n",
       "             u'mayeb': 2,\n",
       "             u'luscury': 1,\n",
       "             u'spectacularity': 1,\n",
       "             u'visibile': 1,\n",
       "             u'bootys': 3,\n",
       "             u'mayes': 1,\n",
       "             u'fashionably': 27,\n",
       "             u'1jumbo': 1,\n",
       "             ...})"
      ]
     },
     "execution_count": 21,
     "metadata": {},
     "output_type": "execute_result"
    }
   ],
   "source": [
    "counts1"
   ]
  },
  {
   "cell_type": "code",
   "execution_count": 22,
   "metadata": {},
   "outputs": [
    {
     "data": {
      "text/plain": [
       "7612243"
      ]
     },
     "execution_count": 22,
     "metadata": {},
     "output_type": "execute_result"
    }
   ],
   "source": [
    "len(counts2)"
   ]
  },
  {
   "cell_type": "code",
   "execution_count": 23,
   "metadata": {},
   "outputs": [
    {
     "data": {
      "text/plain": [
       "7612243"
      ]
     },
     "execution_count": 23,
     "metadata": {},
     "output_type": "execute_result"
    }
   ],
   "source": [
    "len(feature_list2)"
   ]
  },
  {
   "cell_type": "code",
   "execution_count": 24,
   "metadata": {},
   "outputs": [
    {
     "data": {
      "text/plain": [
       "33033548"
      ]
     },
     "execution_count": 24,
     "metadata": {},
     "output_type": "execute_result"
    }
   ],
   "source": [
    "t1 = sum(counts1.values())\n",
    "t1"
   ]
  },
  {
   "cell_type": "code",
   "execution_count": 25,
   "metadata": {},
   "outputs": [
    {
     "data": {
      "text/plain": [
       "32459341"
      ]
     },
     "execution_count": 25,
     "metadata": {},
     "output_type": "execute_result"
    }
   ],
   "source": [
    "t2 = sum(counts2.values())\n",
    "t2"
   ]
  },
  {
   "cell_type": "code",
   "execution_count": null,
   "metadata": {},
   "outputs": [],
   "source": [
    "1/10"
   ]
  },
  {
   "cell_type": "code",
   "execution_count": 26,
   "metadata": {
    "collapsed": true
   },
   "outputs": [],
   "source": [
    "def calc_stat1(bg_ct, wi_ct, wj_ct, alpha):\n",
    "    num = bg_ct*1.0/t2\n",
    "    den = (wi_ct*1.0 + alpha*1.0)/(t1 + alpha*(len(counts1))) * (wj_ct*1.0 + alpha*1.0)/(t1 + alpha*(len(counts1)))\n",
    "    return (num*1.0)/den"
   ]
  },
  {
   "cell_type": "code",
   "execution_count": 27,
   "metadata": {},
   "outputs": [
    {
     "data": {
      "text/plain": [
       "[(u'soggy said', 3),\n",
       " (u'babystack cafe', 1),\n",
       " (u'favorite susci', 1),\n",
       " (u'service deliciousness', 3),\n",
       " (u'siracha enjoy', 1),\n",
       " (u'sw hearing', 1),\n",
       " (u'bartenders double', 1),\n",
       " (u'fare haven', 5),\n",
       " (u'nicer began', 1),\n",
       " (u'head osaka', 1)]"
      ]
     },
     "execution_count": 27,
     "metadata": {},
     "output_type": "execute_result"
    }
   ],
   "source": [
    "list(counts2.iteritems())[:10]"
   ]
  },
  {
   "cell_type": "code",
   "execution_count": 28,
   "metadata": {
    "collapsed": true
   },
   "outputs": [],
   "source": [
    "dubs = {}\n",
    "smoothing = 90\n",
    "n_counts = len(counts2)\n",
    "for key, value in counts2.iteritems():\n",
    "    try:\n",
    "        cutty = key.split(\" \")\n",
    "        if len(cutty) > 1:\n",
    "            dubs[key] = calc_stat1(value, counts1[cutty[0]], counts1[cutty[1]], smoothing)\n",
    "    except AttributeError:\n",
    "        pass"
   ]
  },
  {
   "cell_type": "code",
   "execution_count": null,
   "metadata": {
    "collapsed": true
   },
   "outputs": [],
   "source": [
    "# counts2['say say']"
   ]
  },
  {
   "cell_type": "code",
   "execution_count": null,
   "metadata": {
    "collapsed": true
   },
   "outputs": [],
   "source": [
    "# calc_stat1(counts2['say say']*1.0, counts1['say']*1.0, counts1['say']*1.0, 67)"
   ]
  },
  {
   "cell_type": "code",
   "execution_count": 29,
   "metadata": {},
   "outputs": [
    {
     "data": {
      "text/plain": [
       "[(u'soggy said', 0.50706874157469861),\n",
       " (u'babystack cafe', 53.001874318221091),\n",
       " (u'q7vepnjf rkia', 8802.2793969475479),\n",
       " (u'service deliciousness', 0.53506327780584206),\n",
       " (u'siracha enjoy', 6.6790583015627343),\n",
       " (u'nonetheless count', 15.155064133851056),\n",
       " (u'concept reach', 13.969558539541554),\n",
       " (u'bartenders double', 1.9920972671568855),\n",
       " (u'fare haven', 5.1445034933631177),\n",
       " (u'nicer began', 13.744173744333445),\n",
       " (u'head osaka', 20.490661399990397),\n",
       " (u'speakers went', 1.7487961123378972),\n",
       " (u'quiz does', 15.831420572060118),\n",
       " (u'julio hacienda', 1010.4897163113974),\n",
       " (u'feeling encounters', 46.640225028712059),\n",
       " (u'longest ve', 27.992740984758562),\n",
       " (u'asked reference', 2.72757233031188),\n",
       " (u'outside cares', 1.2022091918633873),\n",
       " (u'unkept mean', 44.280200957948225),\n",
       " (u'laughing girl', 6.5778987220113097)]"
      ]
     },
     "execution_count": 29,
     "metadata": {},
     "output_type": "execute_result"
    }
   ],
   "source": [
    "list(dubs.iteritems())[:20]"
   ]
  },
  {
   "cell_type": "code",
   "execution_count": 30,
   "metadata": {
    "collapsed": true
   },
   "outputs": [],
   "source": [
    "def secval(x):\n",
    "    return x[1]"
   ]
  },
  {
   "cell_type": "code",
   "execution_count": 31,
   "metadata": {},
   "outputs": [
    {
     "data": {
      "text/plain": [
       "['ezzyujdouig4p gyb3pv_a',\n",
       " 'hodge podge',\n",
       " 'himal chuli',\n",
       " 'hoity toity',\n",
       " 'roka akor',\n",
       " 'f_5_unx wrafcxuakbzrdw',\n",
       " 'knick knacks',\n",
       " 'reina pepiada',\n",
       " 'cien agaves',\n",
       " 'baskin robbins',\n",
       " 'itty bitty',\n",
       " 'khai hoan',\n",
       " 'riff raff',\n",
       " 'grana padano',\n",
       " 'tutti santi',\n",
       " 'ropa vieja',\n",
       " 'gulab jamun',\n",
       " 'pel meni',\n",
       " 'ore ida',\n",
       " 'laan xang',\n",
       " 'dac biet',\n",
       " 'rula bula',\n",
       " 'hu tieu',\n",
       " 'innis gunn',\n",
       " 'bandeja paisa',\n",
       " 'tammie coe',\n",
       " 'ghillie dhu',\n",
       " 'chicha morada',\n",
       " 'alain ducasse',\n",
       " 'feng shui',\n",
       " 'pi\\xc3\\xa8ce r\\xc3\\xa9sistance',\n",
       " '2weqs rnoobhb1kshkyosq',\n",
       " 'leaps bounds',\n",
       " 'dol sot',\n",
       " 'itsy bitsy',\n",
       " 'mille feuille',\n",
       " 'hors oeuvres',\n",
       " 'marche bacchus',\n",
       " 'uuu uuu',\n",
       " 'nooks crannies',\n",
       " 'celine dion',\n",
       " 'resducs7fiiihp38 d6_6g',\n",
       " 'nanay gloria',\n",
       " 'doon varna',\n",
       " 'luc lac',\n",
       " 'krispy kreme',\n",
       " 'woonam jung',\n",
       " 'perrier jouet',\n",
       " 'deja vu',\n",
       " 'molecular gastronomy',\n",
       " 'puerto rican',\n",
       " 'vice versa',\n",
       " 'patatas bravas',\n",
       " 'sais quoi',\n",
       " 'cullen skink',\n",
       " 'lloyd wright',\n",
       " 'holyrood 9a',\n",
       " 'pura vida',\n",
       " 'lomo saltado',\n",
       " 'valle luna',\n",
       " 'nuoc mam',\n",
       " 'wal mart',\n",
       " 'dueling pianos',\n",
       " 'nha trang',\n",
       " 'bradley ogden',\n",
       " 'barnes noble',\n",
       " 'rustler rooste',\n",
       " 'avant garde',\n",
       " 'beggars choosers',\n",
       " 'honky tonk',\n",
       " 'haricot vert',\n",
       " 'kao tod',\n",
       " 'irn bru',\n",
       " 'ak yelpcdn',\n",
       " 'porta alba',\n",
       " 'jayde fuzion',\n",
       " 'lis doon',\n",
       " 'khao soi',\n",
       " 'malai kofta',\n",
       " 'aguas frescas',\n",
       " 'loup mer',\n",
       " 'rx boiler',\n",
       " 'jos\\xc3\\xa9 andr\\xc3\\xa9s',\n",
       " 'yadda yadda',\n",
       " 'ref 19485',\n",
       " 'humpty dumpty',\n",
       " 'mccormick schmick',\n",
       " 'lq9vmiwvm6v ronpkyx8aq',\n",
       " 'yada yada',\n",
       " 'shiner bock',\n",
       " 'buen provecho',\n",
       " 'artery clogging',\n",
       " 'ritz carlton',\n",
       " 'womp womp',\n",
       " 'rinky dink',\n",
       " 'sri lankan',\n",
       " 'chino bandido',\n",
       " 'sous vide',\n",
       " 'homer simpson',\n",
       " 'hunnie bunnie']"
      ]
     },
     "execution_count": 31,
     "metadata": {},
     "output_type": "execute_result"
    }
   ],
   "source": [
    "sortlist = sorted(dubs.iteritems(), key=secval, reverse=True)\n",
    "sort100, sort101 = zip(*sortlist[0:100]) #strip out the numbers with a new list\n",
    "\n",
    "sort100 = [item.encode(\"utf-8\") for item in sort100]\n",
    "sort100\n"
   ]
  },
  {
   "cell_type": "code",
   "execution_count": 32,
   "metadata": {},
   "outputs": [
    {
     "name": "stdout",
     "output_type": "stream",
     "text": [
      "==================\n",
      "Your score:  0.92\n",
      "==================\n"
     ]
    }
   ],
   "source": [
    "# score('nlp__food_bigrams', lambda: dubs)\n",
    "score('nlp__food_bigrams', lambda: sort100)"
   ]
  },
  {
   "cell_type": "code",
   "execution_count": null,
   "metadata": {
    "collapsed": true
   },
   "outputs": [],
   "source": [
    "## score('nlp__food_bigrams', lambda: [\"kare kare\"] * 100)"
   ]
  },
  {
   "cell_type": "markdown",
   "metadata": {},
   "source": [
    "*Copyright &copy; 2016 The Data Incubator.  All rights reserved.*"
   ]
  }
 ],
 "metadata": {
  "kernelspec": {
   "display_name": "Python 2",
   "language": "python",
   "name": "python2"
  },
  "language_info": {
   "codemirror_mode": {
    "name": "ipython",
    "version": 2
   },
   "file_extension": ".py",
   "mimetype": "text/x-python",
   "name": "python",
   "nbconvert_exporter": "python",
   "pygments_lexer": "ipython2",
   "version": "2.7.13"
  },
  "nbclean": true
 },
 "nbformat": 4,
 "nbformat_minor": 1
}
